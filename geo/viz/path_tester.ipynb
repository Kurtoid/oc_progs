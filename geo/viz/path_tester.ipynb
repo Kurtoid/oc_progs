{
 "cells": [
  {
   "cell_type": "code",
   "execution_count": 129,
   "id": "exposed-imagination",
   "metadata": {},
   "outputs": [],
   "source": [
    "import plotly\n",
    "import json\n",
    "import math\n",
    "import re\n",
    "import numpy as np\n",
    "import plotly.graph_objs as go\n",
    "from typing import List, Tuple, Dict, Any, Union\n",
    "from queue import PriorityQueue"
   ]
  },
  {
   "cell_type": "code",
   "execution_count": 130,
   "id": "institutional-strength",
   "metadata": {},
   "outputs": [],
   "source": [
    "# read map_exp.txt\n",
    "with open(\"map_exp.txt\") as f:\n",
    "    lines = f.readlines()\n",
    "    # combine into one string\n",
    "    map_exp = \"\".join(lines)\n",
    "data = map_exp.split(\"data=\")[1]\n",
    "dim = int(math.sqrt(data.count(\"n=64\")))\n",
    "# print(dim)\n",
    "# print(data)\n",
    "matching = r'\\{([0-9,.-]+)n'\n",
    "# find all captures\n",
    "matches = re.findall(matching, data)\n",
    "map_arr = None\n",
    "for match in matches:\n",
    "  numbers = match.split(\",\")\n",
    "  arr = []\n",
    "  for number in numbers:\n",
    "    if number != '':\n",
    "      n = float(number)\n",
    "      n = 0 if n ==0 else 1\n",
    "      arr.append(n)\n",
    "  if map_arr is None:\n",
    "    map_arr = np.array(arr)\n",
    "  else:\n",
    "    map_arr = np.vstack((map_arr, arr))\n",
    "map_arr = map_arr.reshape(dim, dim, 64)"
   ]
  },
  {
   "cell_type": "code",
   "execution_count": 131,
   "id": "eeb0f599",
   "metadata": {},
   "outputs": [
    {
     "name": "stdout",
     "output_type": "stream",
     "text": [
      "[(0, 0, 35), (0, 1, 34), (0, 2, 33), (0, 3, 32), (0, 4, 31), (0, 5, 30), (0, 6, 30), (0, 7, 29), (0, 8, 36), (1, 0, 36), (1, 1, 35), (1, 2, 34), (1, 3, 33), (1, 4, 31), (1, 5, 30), (1, 6, 30), (1, 7, 30), (1, 8, 36), (2, 0, 35), (2, 1, 34), (2, 2, 33), (2, 3, 32), (2, 4, 32), (2, 5, 32), (2, 6, 31), (2, 7, 31), (2, 8, 36), (3, 0, 34), (3, 1, 33), (3, 2, 32), (3, 3, 34), (3, 4, 32), (3, 5, 32), (3, 6, 32), (3, 7, 31), (3, 8, 35), (4, 0, 32), (4, 1, 31), (4, 2, 32), (4, 3, 34), (4, 4, 38), (4, 5, 38), (4, 6, 38), (4, 7, 32), (4, 8, 34), (5, 0, 31), (5, 1, 30), (5, 2, 32), (5, 3, 38), (5, 4, 38), (5, 5, 41), (5, 6, 38), (5, 7, 38), (5, 8, 33), (6, 0, 31), (6, 1, 31), (6, 2, 31), (6, 3, 38), (6, 4, 41), (6, 5, 42), (6, 6, 41), (6, 7, 39), (6, 8, 32), (7, 0, 31), (7, 1, 31), (7, 2, 32), (7, 3, 38), (7, 4, 38), (7, 5, 41), (7, 6, 38), (7, 7, 39), (7, 8, 31), (8, 0, 35), (8, 1, 34), (8, 2, 32), (8, 3, 32), (8, 4, 31), (8, 5, 30), (8, 6, 29), (8, 7, 29), (8, 8, 36)]\n"
     ]
    }
   ],
   "source": [
    "# get the topmost block in each column\n",
    "top_blocks = []\n",
    "for i in range(dim):\n",
    "  for j in range(dim):\n",
    "    # get the highest value of k where map_arr[i][j][k] == 1\n",
    "    k = 64\n",
    "    while k > 0 and map_arr[i][j][k-1] == 0:\n",
    "      k -= 1\n",
    "    assert(map_arr[i][j][k] ==0)\n",
    "    top_blocks.append((i, j, k))\n",
    "print(top_blocks)"
   ]
  },
  {
   "cell_type": "code",
   "execution_count": 132,
   "id": "3c187aed",
   "metadata": {},
   "outputs": [],
   "source": [
    "x = []\n",
    "y = []\n",
    "z = []\n",
    "for i in range(dim):\n",
    "  for j in range(dim):\n",
    "    for k in range(64):\n",
    "      if map_arr[i][j][k] == 1:\n",
    "        x.append(i)\n",
    "        y.append(j)\n",
    "        z.append(k)\n",
    "\n",
    "tx = []\n",
    "ty = []\n",
    "tz = []\n",
    "for b in top_blocks:\n",
    "  tx.append(b[0])\n",
    "  ty.append(b[1])\n",
    "  tz.append(b[2])\n",
    "fig = go.Figure(data=[\n",
    "    #  go.Scatter3d(x=x, y=y, z=z,\n",
    "    #               mode='markers',\n",
    "    #               marker=dict(size=2)\n",
    "    #              ),\n",
    "      go.Scatter3d(x=tx, y=ty, z=tz,\n",
    "                    mode='markers',\n",
    "                    marker=dict(size=10, color='red')\n",
    "                    )\n",
    "    ])\n"
   ]
  },
  {
   "cell_type": "code",
   "execution_count": 133,
   "id": "9c2ef76c",
   "metadata": {},
   "outputs": [
    {
     "data": {
      "application/vnd.plotly.v1+json": {
       "config": {
        "plotlyServerURL": "https://plot.ly"
       },
       "data": [
        {
         "marker": {
          "color": "red",
          "size": 10
         },
         "mode": "markers",
         "type": "scatter3d",
         "x": [
          0,
          0,
          0,
          0,
          0,
          0,
          0,
          0,
          0,
          1,
          1,
          1,
          1,
          1,
          1,
          1,
          1,
          1,
          2,
          2,
          2,
          2,
          2,
          2,
          2,
          2,
          2,
          3,
          3,
          3,
          3,
          3,
          3,
          3,
          3,
          3,
          4,
          4,
          4,
          4,
          4,
          4,
          4,
          4,
          4,
          5,
          5,
          5,
          5,
          5,
          5,
          5,
          5,
          5,
          6,
          6,
          6,
          6,
          6,
          6,
          6,
          6,
          6,
          7,
          7,
          7,
          7,
          7,
          7,
          7,
          7,
          7,
          8,
          8,
          8,
          8,
          8,
          8,
          8,
          8,
          8
         ],
         "y": [
          0,
          1,
          2,
          3,
          4,
          5,
          6,
          7,
          8,
          0,
          1,
          2,
          3,
          4,
          5,
          6,
          7,
          8,
          0,
          1,
          2,
          3,
          4,
          5,
          6,
          7,
          8,
          0,
          1,
          2,
          3,
          4,
          5,
          6,
          7,
          8,
          0,
          1,
          2,
          3,
          4,
          5,
          6,
          7,
          8,
          0,
          1,
          2,
          3,
          4,
          5,
          6,
          7,
          8,
          0,
          1,
          2,
          3,
          4,
          5,
          6,
          7,
          8,
          0,
          1,
          2,
          3,
          4,
          5,
          6,
          7,
          8,
          0,
          1,
          2,
          3,
          4,
          5,
          6,
          7,
          8
         ],
         "z": [
          35,
          34,
          33,
          32,
          31,
          30,
          30,
          29,
          36,
          36,
          35,
          34,
          33,
          31,
          30,
          30,
          30,
          36,
          35,
          34,
          33,
          32,
          32,
          32,
          31,
          31,
          36,
          34,
          33,
          32,
          34,
          32,
          32,
          32,
          31,
          35,
          32,
          31,
          32,
          34,
          38,
          38,
          38,
          32,
          34,
          31,
          30,
          32,
          38,
          38,
          41,
          38,
          38,
          33,
          31,
          31,
          31,
          38,
          41,
          42,
          41,
          39,
          32,
          31,
          31,
          32,
          38,
          38,
          41,
          38,
          39,
          31,
          35,
          34,
          32,
          32,
          31,
          30,
          29,
          29,
          36
         ]
        }
       ],
       "layout": {
        "template": {
         "data": {
          "bar": [
           {
            "error_x": {
             "color": "#2a3f5f"
            },
            "error_y": {
             "color": "#2a3f5f"
            },
            "marker": {
             "line": {
              "color": "#E5ECF6",
              "width": 0.5
             },
             "pattern": {
              "fillmode": "overlay",
              "size": 10,
              "solidity": 0.2
             }
            },
            "type": "bar"
           }
          ],
          "barpolar": [
           {
            "marker": {
             "line": {
              "color": "#E5ECF6",
              "width": 0.5
             },
             "pattern": {
              "fillmode": "overlay",
              "size": 10,
              "solidity": 0.2
             }
            },
            "type": "barpolar"
           }
          ],
          "carpet": [
           {
            "aaxis": {
             "endlinecolor": "#2a3f5f",
             "gridcolor": "white",
             "linecolor": "white",
             "minorgridcolor": "white",
             "startlinecolor": "#2a3f5f"
            },
            "baxis": {
             "endlinecolor": "#2a3f5f",
             "gridcolor": "white",
             "linecolor": "white",
             "minorgridcolor": "white",
             "startlinecolor": "#2a3f5f"
            },
            "type": "carpet"
           }
          ],
          "choropleth": [
           {
            "colorbar": {
             "outlinewidth": 0,
             "ticks": ""
            },
            "type": "choropleth"
           }
          ],
          "contour": [
           {
            "colorbar": {
             "outlinewidth": 0,
             "ticks": ""
            },
            "colorscale": [
             [
              0,
              "#0d0887"
             ],
             [
              0.1111111111111111,
              "#46039f"
             ],
             [
              0.2222222222222222,
              "#7201a8"
             ],
             [
              0.3333333333333333,
              "#9c179e"
             ],
             [
              0.4444444444444444,
              "#bd3786"
             ],
             [
              0.5555555555555556,
              "#d8576b"
             ],
             [
              0.6666666666666666,
              "#ed7953"
             ],
             [
              0.7777777777777778,
              "#fb9f3a"
             ],
             [
              0.8888888888888888,
              "#fdca26"
             ],
             [
              1,
              "#f0f921"
             ]
            ],
            "type": "contour"
           }
          ],
          "contourcarpet": [
           {
            "colorbar": {
             "outlinewidth": 0,
             "ticks": ""
            },
            "type": "contourcarpet"
           }
          ],
          "heatmap": [
           {
            "colorbar": {
             "outlinewidth": 0,
             "ticks": ""
            },
            "colorscale": [
             [
              0,
              "#0d0887"
             ],
             [
              0.1111111111111111,
              "#46039f"
             ],
             [
              0.2222222222222222,
              "#7201a8"
             ],
             [
              0.3333333333333333,
              "#9c179e"
             ],
             [
              0.4444444444444444,
              "#bd3786"
             ],
             [
              0.5555555555555556,
              "#d8576b"
             ],
             [
              0.6666666666666666,
              "#ed7953"
             ],
             [
              0.7777777777777778,
              "#fb9f3a"
             ],
             [
              0.8888888888888888,
              "#fdca26"
             ],
             [
              1,
              "#f0f921"
             ]
            ],
            "type": "heatmap"
           }
          ],
          "heatmapgl": [
           {
            "colorbar": {
             "outlinewidth": 0,
             "ticks": ""
            },
            "colorscale": [
             [
              0,
              "#0d0887"
             ],
             [
              0.1111111111111111,
              "#46039f"
             ],
             [
              0.2222222222222222,
              "#7201a8"
             ],
             [
              0.3333333333333333,
              "#9c179e"
             ],
             [
              0.4444444444444444,
              "#bd3786"
             ],
             [
              0.5555555555555556,
              "#d8576b"
             ],
             [
              0.6666666666666666,
              "#ed7953"
             ],
             [
              0.7777777777777778,
              "#fb9f3a"
             ],
             [
              0.8888888888888888,
              "#fdca26"
             ],
             [
              1,
              "#f0f921"
             ]
            ],
            "type": "heatmapgl"
           }
          ],
          "histogram": [
           {
            "marker": {
             "pattern": {
              "fillmode": "overlay",
              "size": 10,
              "solidity": 0.2
             }
            },
            "type": "histogram"
           }
          ],
          "histogram2d": [
           {
            "colorbar": {
             "outlinewidth": 0,
             "ticks": ""
            },
            "colorscale": [
             [
              0,
              "#0d0887"
             ],
             [
              0.1111111111111111,
              "#46039f"
             ],
             [
              0.2222222222222222,
              "#7201a8"
             ],
             [
              0.3333333333333333,
              "#9c179e"
             ],
             [
              0.4444444444444444,
              "#bd3786"
             ],
             [
              0.5555555555555556,
              "#d8576b"
             ],
             [
              0.6666666666666666,
              "#ed7953"
             ],
             [
              0.7777777777777778,
              "#fb9f3a"
             ],
             [
              0.8888888888888888,
              "#fdca26"
             ],
             [
              1,
              "#f0f921"
             ]
            ],
            "type": "histogram2d"
           }
          ],
          "histogram2dcontour": [
           {
            "colorbar": {
             "outlinewidth": 0,
             "ticks": ""
            },
            "colorscale": [
             [
              0,
              "#0d0887"
             ],
             [
              0.1111111111111111,
              "#46039f"
             ],
             [
              0.2222222222222222,
              "#7201a8"
             ],
             [
              0.3333333333333333,
              "#9c179e"
             ],
             [
              0.4444444444444444,
              "#bd3786"
             ],
             [
              0.5555555555555556,
              "#d8576b"
             ],
             [
              0.6666666666666666,
              "#ed7953"
             ],
             [
              0.7777777777777778,
              "#fb9f3a"
             ],
             [
              0.8888888888888888,
              "#fdca26"
             ],
             [
              1,
              "#f0f921"
             ]
            ],
            "type": "histogram2dcontour"
           }
          ],
          "mesh3d": [
           {
            "colorbar": {
             "outlinewidth": 0,
             "ticks": ""
            },
            "type": "mesh3d"
           }
          ],
          "parcoords": [
           {
            "line": {
             "colorbar": {
              "outlinewidth": 0,
              "ticks": ""
             }
            },
            "type": "parcoords"
           }
          ],
          "pie": [
           {
            "automargin": true,
            "type": "pie"
           }
          ],
          "scatter": [
           {
            "marker": {
             "colorbar": {
              "outlinewidth": 0,
              "ticks": ""
             }
            },
            "type": "scatter"
           }
          ],
          "scatter3d": [
           {
            "line": {
             "colorbar": {
              "outlinewidth": 0,
              "ticks": ""
             }
            },
            "marker": {
             "colorbar": {
              "outlinewidth": 0,
              "ticks": ""
             }
            },
            "type": "scatter3d"
           }
          ],
          "scattercarpet": [
           {
            "marker": {
             "colorbar": {
              "outlinewidth": 0,
              "ticks": ""
             }
            },
            "type": "scattercarpet"
           }
          ],
          "scattergeo": [
           {
            "marker": {
             "colorbar": {
              "outlinewidth": 0,
              "ticks": ""
             }
            },
            "type": "scattergeo"
           }
          ],
          "scattergl": [
           {
            "marker": {
             "colorbar": {
              "outlinewidth": 0,
              "ticks": ""
             }
            },
            "type": "scattergl"
           }
          ],
          "scattermapbox": [
           {
            "marker": {
             "colorbar": {
              "outlinewidth": 0,
              "ticks": ""
             }
            },
            "type": "scattermapbox"
           }
          ],
          "scatterpolar": [
           {
            "marker": {
             "colorbar": {
              "outlinewidth": 0,
              "ticks": ""
             }
            },
            "type": "scatterpolar"
           }
          ],
          "scatterpolargl": [
           {
            "marker": {
             "colorbar": {
              "outlinewidth": 0,
              "ticks": ""
             }
            },
            "type": "scatterpolargl"
           }
          ],
          "scatterternary": [
           {
            "marker": {
             "colorbar": {
              "outlinewidth": 0,
              "ticks": ""
             }
            },
            "type": "scatterternary"
           }
          ],
          "surface": [
           {
            "colorbar": {
             "outlinewidth": 0,
             "ticks": ""
            },
            "colorscale": [
             [
              0,
              "#0d0887"
             ],
             [
              0.1111111111111111,
              "#46039f"
             ],
             [
              0.2222222222222222,
              "#7201a8"
             ],
             [
              0.3333333333333333,
              "#9c179e"
             ],
             [
              0.4444444444444444,
              "#bd3786"
             ],
             [
              0.5555555555555556,
              "#d8576b"
             ],
             [
              0.6666666666666666,
              "#ed7953"
             ],
             [
              0.7777777777777778,
              "#fb9f3a"
             ],
             [
              0.8888888888888888,
              "#fdca26"
             ],
             [
              1,
              "#f0f921"
             ]
            ],
            "type": "surface"
           }
          ],
          "table": [
           {
            "cells": {
             "fill": {
              "color": "#EBF0F8"
             },
             "line": {
              "color": "white"
             }
            },
            "header": {
             "fill": {
              "color": "#C8D4E3"
             },
             "line": {
              "color": "white"
             }
            },
            "type": "table"
           }
          ]
         },
         "layout": {
          "annotationdefaults": {
           "arrowcolor": "#2a3f5f",
           "arrowhead": 0,
           "arrowwidth": 1
          },
          "autotypenumbers": "strict",
          "coloraxis": {
           "colorbar": {
            "outlinewidth": 0,
            "ticks": ""
           }
          },
          "colorscale": {
           "diverging": [
            [
             0,
             "#8e0152"
            ],
            [
             0.1,
             "#c51b7d"
            ],
            [
             0.2,
             "#de77ae"
            ],
            [
             0.3,
             "#f1b6da"
            ],
            [
             0.4,
             "#fde0ef"
            ],
            [
             0.5,
             "#f7f7f7"
            ],
            [
             0.6,
             "#e6f5d0"
            ],
            [
             0.7,
             "#b8e186"
            ],
            [
             0.8,
             "#7fbc41"
            ],
            [
             0.9,
             "#4d9221"
            ],
            [
             1,
             "#276419"
            ]
           ],
           "sequential": [
            [
             0,
             "#0d0887"
            ],
            [
             0.1111111111111111,
             "#46039f"
            ],
            [
             0.2222222222222222,
             "#7201a8"
            ],
            [
             0.3333333333333333,
             "#9c179e"
            ],
            [
             0.4444444444444444,
             "#bd3786"
            ],
            [
             0.5555555555555556,
             "#d8576b"
            ],
            [
             0.6666666666666666,
             "#ed7953"
            ],
            [
             0.7777777777777778,
             "#fb9f3a"
            ],
            [
             0.8888888888888888,
             "#fdca26"
            ],
            [
             1,
             "#f0f921"
            ]
           ],
           "sequentialminus": [
            [
             0,
             "#0d0887"
            ],
            [
             0.1111111111111111,
             "#46039f"
            ],
            [
             0.2222222222222222,
             "#7201a8"
            ],
            [
             0.3333333333333333,
             "#9c179e"
            ],
            [
             0.4444444444444444,
             "#bd3786"
            ],
            [
             0.5555555555555556,
             "#d8576b"
            ],
            [
             0.6666666666666666,
             "#ed7953"
            ],
            [
             0.7777777777777778,
             "#fb9f3a"
            ],
            [
             0.8888888888888888,
             "#fdca26"
            ],
            [
             1,
             "#f0f921"
            ]
           ]
          },
          "colorway": [
           "#636efa",
           "#EF553B",
           "#00cc96",
           "#ab63fa",
           "#FFA15A",
           "#19d3f3",
           "#FF6692",
           "#B6E880",
           "#FF97FF",
           "#FECB52"
          ],
          "font": {
           "color": "#2a3f5f"
          },
          "geo": {
           "bgcolor": "white",
           "lakecolor": "white",
           "landcolor": "#E5ECF6",
           "showlakes": true,
           "showland": true,
           "subunitcolor": "white"
          },
          "hoverlabel": {
           "align": "left"
          },
          "hovermode": "closest",
          "mapbox": {
           "style": "light"
          },
          "paper_bgcolor": "white",
          "plot_bgcolor": "#E5ECF6",
          "polar": {
           "angularaxis": {
            "gridcolor": "white",
            "linecolor": "white",
            "ticks": ""
           },
           "bgcolor": "#E5ECF6",
           "radialaxis": {
            "gridcolor": "white",
            "linecolor": "white",
            "ticks": ""
           }
          },
          "scene": {
           "xaxis": {
            "backgroundcolor": "#E5ECF6",
            "gridcolor": "white",
            "gridwidth": 2,
            "linecolor": "white",
            "showbackground": true,
            "ticks": "",
            "zerolinecolor": "white"
           },
           "yaxis": {
            "backgroundcolor": "#E5ECF6",
            "gridcolor": "white",
            "gridwidth": 2,
            "linecolor": "white",
            "showbackground": true,
            "ticks": "",
            "zerolinecolor": "white"
           },
           "zaxis": {
            "backgroundcolor": "#E5ECF6",
            "gridcolor": "white",
            "gridwidth": 2,
            "linecolor": "white",
            "showbackground": true,
            "ticks": "",
            "zerolinecolor": "white"
           }
          },
          "shapedefaults": {
           "line": {
            "color": "#2a3f5f"
           }
          },
          "ternary": {
           "aaxis": {
            "gridcolor": "white",
            "linecolor": "white",
            "ticks": ""
           },
           "baxis": {
            "gridcolor": "white",
            "linecolor": "white",
            "ticks": ""
           },
           "bgcolor": "#E5ECF6",
           "caxis": {
            "gridcolor": "white",
            "linecolor": "white",
            "ticks": ""
           }
          },
          "title": {
           "x": 0.05
          },
          "xaxis": {
           "automargin": true,
           "gridcolor": "white",
           "linecolor": "white",
           "ticks": "",
           "title": {
            "standoff": 15
           },
           "zerolinecolor": "white",
           "zerolinewidth": 2
          },
          "yaxis": {
           "automargin": true,
           "gridcolor": "white",
           "linecolor": "white",
           "ticks": "",
           "title": {
            "standoff": 15
           },
           "zerolinecolor": "white",
           "zerolinewidth": 2
          }
         }
        }
       }
      }
     },
     "metadata": {},
     "output_type": "display_data"
    }
   ],
   "source": [
    "fig.show()"
   ]
  },
  {
   "cell_type": "code",
   "execution_count": 134,
   "id": "744ea037",
   "metadata": {},
   "outputs": [],
   "source": [
    "def manhattan_distance(a, b):\n",
    "  return abs(a[0] - b[0]) + abs(a[1] - b[1]) + abs(a[2] - b[2])\n",
    "\n",
    "\n",
    "def cost_matrix(top_blocks, map_arr):\n",
    "  # create a cost matrix\n",
    "  cost_matrix = np.full((len(top_blocks), len(top_blocks)), math.inf)\n",
    "  for i in range(len(top_blocks)):\n",
    "    for j in range(len(top_blocks)):\n",
    "        # i and j must be neighbors, not including diagonals. they must not be the same block\n",
    "        if i == j:\n",
    "            continue\n",
    "        if manhattan_distance(top_blocks[i], top_blocks[j]) == 1:\n",
    "            cost_matrix[i][j] = 1\n",
    "            continue\n",
    "        # # check if the blocks have direct line of sight (same column, row) and no blocks in between\n",
    "        # is_diff_x = top_blocks[i][0] != top_blocks[j][0] and (top_blocks[i][1] == top_blocks[j][1] and top_blocks[i][2] == top_blocks[j][2])\n",
    "        # is_diff_y = top_blocks[i][1] != top_blocks[j][1] and (top_blocks[i][0] == top_blocks[j][0] and top_blocks[i][2] == top_blocks[j][2])\n",
    "        # is_diff_z = top_blocks[i][2] != top_blocks[j][2] and (top_blocks[i][0] == top_blocks[j][0] and top_blocks[i][1] == top_blocks[j][1])\n",
    "        # if is_diff_x:\n",
    "        #   # check if there is a block in between\n",
    "        #   for k in range(min(top_blocks[i][0], top_blocks[j][0]), max(top_blocks[i][0], top_blocks[j][0])):\n",
    "        #     if map_arr[k][top_blocks[i][1]][top_blocks[i][2]] == 1 or map_arr[k][top_blocks[j][1]][top_blocks[j][2]] == 1:\n",
    "        #       break\n",
    "        #   if k == max(top_blocks[i][0], top_blocks[j][0]):\n",
    "        #     # TODO: make the cost equal to distance\n",
    "        #     cost_matrix[i][j] = abs(top_blocks[i][0] - top_blocks[j][0])\n",
    "        # elif is_diff_y:\n",
    "        #   # check if there is a block in between\n",
    "        #   for k in range(min(top_blocks[i][1], top_blocks[j][1]), max(top_blocks[i][1], top_blocks[j][1])):\n",
    "        #     if map_arr[top_blocks[i][0]][k][top_blocks[i][2]] == 1 or map_arr[top_blocks[j][0]][k][top_blocks[j][2]] == 1:\n",
    "        #       break\n",
    "        #   if k == max(top_blocks[i][1], top_blocks[j][1]):\n",
    "        #     cost_matrix[i][j] = abs(top_blocks[i][1] - top_blocks[j][1])\n",
    "        # elif is_diff_z:\n",
    "        #   # check if there is a block in between\n",
    "        #   for k in range(min(top_blocks[i][2], top_blocks[j][2]), max(top_blocks[i][2], top_blocks[j][2])):\n",
    "        #     if map_arr[top_blocks[i][0]][top_blocks[i][1]][k] == 1 or map_arr[top_blocks[j][0]][top_blocks[j][1]][k] == 1:\n",
    "        #       break\n",
    "        #   if k == max(top_blocks[i][2], top_blocks[j][2]):\n",
    "        #     cost_matrix[i][j] = abs(top_blocks[i][2] - top_blocks[j][2])\n",
    "        # if cost_matrix[i][j] == math.inf:\n",
    "        cost_matrix[i][j] = manhattan_distance(top_blocks[i], top_blocks[j])\n",
    "\n",
    "\n",
    "  return cost_matrix\n",
    "\n",
    "cost_mat = cost_matrix(top_blocks, map_arr)\n"
   ]
  },
  {
   "cell_type": "code",
   "execution_count": 135,
   "id": "8ffba45f",
   "metadata": {},
   "outputs": [
    {
     "name": "stdout",
     "output_type": "stream",
     "text": [
      "[(0, 0, 35), (0, 1, 34), (0, 2, 33), (0, 3, 32), (0, 4, 31), (1, 4, 31), (1, 5, 30), (0, 5, 30), (0, 6, 30), (1, 6, 30), (1, 7, 30), (0, 7, 29), (2, 7, 31), (2, 6, 31), (2, 5, 32), (2, 4, 32), (2, 3, 32), (1, 3, 33), (1, 2, 34), (1, 1, 35), (1, 0, 36), (2, 0, 35), (2, 1, 34), (2, 2, 33), (3, 1, 33), (3, 0, 34), (3, 3, 34), (4, 3, 34), (4, 2, 32), (3, 2, 32), (3, 4, 32), (3, 5, 32), (3, 6, 32), (3, 7, 31), (4, 7, 32), (4, 8, 34), (3, 8, 35), (2, 8, 36), (1, 8, 36), (0, 8, 36), (4, 6, 38), (4, 5, 38), (4, 4, 38), (5, 4, 38), (5, 3, 38), (6, 3, 38), (7, 3, 38), (7, 4, 38), (7, 6, 38), (5, 6, 38), (5, 7, 38), (6, 7, 39), (7, 7, 39), (6, 6, 41), (5, 5, 41), (6, 4, 41), (6, 5, 42), (7, 5, 41), (8, 8, 36), (5, 8, 33), (6, 8, 32), (7, 8, 31), (8, 7, 29), (8, 6, 29), (8, 5, 30), (8, 4, 31), (8, 3, 32), (8, 2, 32), (7, 2, 32), (5, 2, 32), (6, 2, 31), (6, 1, 31), (6, 0, 31), (5, 0, 31), (4, 0, 32), (4, 1, 31), (5, 1, 30), (7, 1, 31), (7, 0, 31), (8, 0, 35), (8, 1, 34)]\n"
     ]
    }
   ],
   "source": [
    "def nearest_neighbor_tsp(top_blocks, map_arr, cost_mat):\n",
    "  path = []\n",
    "  visited = set()\n",
    "  path.append((top_blocks[0], 0))\n",
    "  visited.add(top_blocks[0])\n",
    "  while len(visited) < len(top_blocks):\n",
    "    # find the nearest neighbor\n",
    "    nearest = None\n",
    "    min_cost = math.inf\n",
    "    for i in range(len(top_blocks)):\n",
    "      if top_blocks[i] in visited:\n",
    "        continue\n",
    "      if cost_mat[path[-1][1]][i] < min_cost:\n",
    "        min_cost = cost_mat[path[-1][1]][i]\n",
    "        nearest = i\n",
    "    path.append((top_blocks[nearest], nearest))\n",
    "    visited.add(top_blocks[nearest])\n",
    "  path = [p[0] for p in path]\n",
    "  return path\n",
    "path = nearest_neighbor_tsp(top_blocks, map_arr, cost_mat)\n",
    "print(path)"
   ]
  },
  {
   "cell_type": "code",
   "execution_count": 136,
   "id": "01603fc2",
   "metadata": {},
   "outputs": [
    {
     "name": "stdout",
     "output_type": "stream",
     "text": [
      "177 81\n"
     ]
    }
   ],
   "source": [
    "def neighbors(p1, map_arr):\n",
    "  dx = [-1, 1, 0, 0, 0, 0]\n",
    "  dy = [0, 0, -1, 1, 0, 0]\n",
    "  dz = [0, 0, 0, 0, -1, 1]\n",
    "  neighbors = []\n",
    "  for i in range(len(dx)):\n",
    "    # check bounds\n",
    "    if p1[0] + dx[i] < 0 or p1[0] + dx[i] >= len(map_arr):\n",
    "      continue\n",
    "    if p1[1] + dy[i] < 0 or p1[1] + dy[i] >= len(map_arr[0]):\n",
    "      continue\n",
    "    if p1[2] + dz[i] < 0 or p1[2] + dz[i] >= len(map_arr[0][0]):\n",
    "      continue\n",
    "    # check if the block is empty\n",
    "    if map_arr[p1[0] + dx[i]][p1[1] + dy[i]][p1[2] + dz[i]] == 0:\n",
    "      neighbors.append((p1[0] + dx[i], p1[1] + dy[i], p1[2] + dz[i]))\n",
    "  return neighbors\n",
    "\n",
    "def astar(p1, p2, map_arr):\n",
    "    open_set = set()\n",
    "    closed_set = set()\n",
    "    open_set.add(p1)\n",
    "    came_from = {}\n",
    "    g_score = {}\n",
    "    g_score[p1] = 0\n",
    "    f_score = {}\n",
    "    f_score[p1] = manhattan_distance(p1, p2)\n",
    "    while len(open_set) > 0:\n",
    "        current = None\n",
    "        for p in open_set:\n",
    "            if current is None or f_score[p] < f_score[current]:\n",
    "                current = p\n",
    "        if current == p2:\n",
    "            path = []\n",
    "            while current in came_from:\n",
    "                path.append(current)\n",
    "                current = came_from[current]\n",
    "            return path[::-1]\n",
    "        open_set.remove(current)\n",
    "        closed_set.add(current)\n",
    "        for p in neighbors(current, map_arr):\n",
    "            if p in closed_set:\n",
    "                continue\n",
    "            if p not in open_set:\n",
    "                open_set.add(p)\n",
    "            tentative_g_score = g_score[current] + 1\n",
    "            if p not in g_score or tentative_g_score < g_score[p]:\n",
    "                came_from[p] = current\n",
    "                g_score[p] = tentative_g_score\n",
    "                f_score[p] = g_score[p] + manhattan_distance(p, p2)\n",
    "# convert the path into discrete steps\n",
    "new_path = []\n",
    "for i in range(len(path) - 1):\n",
    "    # use a star to get the steps from p1 to p2\n",
    "    new_path += astar(path[i], path[i + 1], map_arr)\n",
    "new_path.append(path[-1])\n",
    "print(len(new_path), len(path))\n",
    "path = new_path"
   ]
  },
  {
   "cell_type": "code",
   "execution_count": 137,
   "id": "6aaf6804",
   "metadata": {},
   "outputs": [
    {
     "data": {
      "application/vnd.plotly.v1+json": {
       "config": {
        "plotlyServerURL": "https://plot.ly"
       },
       "data": [
        {
         "hoverinfo": "text",
         "hovertext": [
          "(0, 0, 0)",
          "(0, 0, 1)",
          "(0, 0, 2)",
          "(0, 0, 3)",
          "(0, 0, 4)",
          "(0, 0, 5)",
          "(0, 0, 6)",
          "(0, 0, 7)",
          "(0, 0, 8)",
          "(0, 0, 9)",
          "(0, 0, 10)",
          "(0, 0, 11)",
          "(0, 0, 12)",
          "(0, 0, 13)",
          "(0, 0, 14)",
          "(0, 0, 15)",
          "(0, 0, 16)",
          "(0, 0, 17)",
          "(0, 0, 18)",
          "(0, 0, 19)",
          "(0, 0, 20)",
          "(0, 0, 21)",
          "(0, 0, 22)",
          "(0, 0, 23)",
          "(0, 0, 24)",
          "(0, 0, 25)",
          "(0, 0, 26)",
          "(0, 0, 27)",
          "(0, 0, 28)",
          "(0, 0, 29)",
          "(0, 0, 30)",
          "(0, 0, 31)",
          "(0, 0, 32)",
          "(0, 0, 33)",
          "(0, 0, 34)",
          "(0, 1, 0)",
          "(0, 1, 1)",
          "(0, 1, 2)",
          "(0, 1, 3)",
          "(0, 1, 4)",
          "(0, 1, 5)",
          "(0, 1, 6)",
          "(0, 1, 7)",
          "(0, 1, 8)",
          "(0, 1, 9)",
          "(0, 1, 10)",
          "(0, 1, 11)",
          "(0, 1, 12)",
          "(0, 1, 13)",
          "(0, 1, 14)",
          "(0, 1, 15)",
          "(0, 1, 16)",
          "(0, 1, 17)",
          "(0, 1, 18)",
          "(0, 1, 19)",
          "(0, 1, 20)",
          "(0, 1, 21)",
          "(0, 1, 22)",
          "(0, 1, 23)",
          "(0, 1, 24)",
          "(0, 1, 25)",
          "(0, 1, 26)",
          "(0, 1, 27)",
          "(0, 1, 28)",
          "(0, 1, 29)",
          "(0, 1, 30)",
          "(0, 1, 31)",
          "(0, 1, 32)",
          "(0, 1, 33)",
          "(0, 2, 0)",
          "(0, 2, 1)",
          "(0, 2, 2)",
          "(0, 2, 3)",
          "(0, 2, 4)",
          "(0, 2, 5)",
          "(0, 2, 6)",
          "(0, 2, 7)",
          "(0, 2, 8)",
          "(0, 2, 9)",
          "(0, 2, 10)",
          "(0, 2, 11)",
          "(0, 2, 12)",
          "(0, 2, 13)",
          "(0, 2, 14)",
          "(0, 2, 15)",
          "(0, 2, 16)",
          "(0, 2, 17)",
          "(0, 2, 18)",
          "(0, 2, 19)",
          "(0, 2, 20)",
          "(0, 2, 21)",
          "(0, 2, 22)",
          "(0, 2, 23)",
          "(0, 2, 24)",
          "(0, 2, 25)",
          "(0, 2, 26)",
          "(0, 2, 27)",
          "(0, 2, 28)",
          "(0, 2, 29)",
          "(0, 2, 30)",
          "(0, 2, 31)",
          "(0, 2, 32)",
          "(0, 3, 0)",
          "(0, 3, 1)",
          "(0, 3, 2)",
          "(0, 3, 3)",
          "(0, 3, 4)",
          "(0, 3, 5)",
          "(0, 3, 6)",
          "(0, 3, 7)",
          "(0, 3, 8)",
          "(0, 3, 9)",
          "(0, 3, 10)",
          "(0, 3, 11)",
          "(0, 3, 12)",
          "(0, 3, 13)",
          "(0, 3, 14)",
          "(0, 3, 15)",
          "(0, 3, 16)",
          "(0, 3, 17)",
          "(0, 3, 18)",
          "(0, 3, 19)",
          "(0, 3, 20)",
          "(0, 3, 21)",
          "(0, 3, 22)",
          "(0, 3, 23)",
          "(0, 3, 24)",
          "(0, 3, 25)",
          "(0, 3, 26)",
          "(0, 3, 27)",
          "(0, 3, 28)",
          "(0, 3, 29)",
          "(0, 3, 30)",
          "(0, 3, 31)",
          "(0, 4, 0)",
          "(0, 4, 1)",
          "(0, 4, 2)",
          "(0, 4, 3)",
          "(0, 4, 4)",
          "(0, 4, 5)",
          "(0, 4, 6)",
          "(0, 4, 7)",
          "(0, 4, 8)",
          "(0, 4, 9)",
          "(0, 4, 10)",
          "(0, 4, 11)",
          "(0, 4, 12)",
          "(0, 4, 13)",
          "(0, 4, 14)",
          "(0, 4, 15)",
          "(0, 4, 16)",
          "(0, 4, 17)",
          "(0, 4, 18)",
          "(0, 4, 19)",
          "(0, 4, 20)",
          "(0, 4, 21)",
          "(0, 4, 22)",
          "(0, 4, 23)",
          "(0, 4, 24)",
          "(0, 4, 25)",
          "(0, 4, 26)",
          "(0, 4, 27)",
          "(0, 4, 28)",
          "(0, 4, 29)",
          "(0, 4, 30)",
          "(0, 5, 0)",
          "(0, 5, 1)",
          "(0, 5, 2)",
          "(0, 5, 3)",
          "(0, 5, 4)",
          "(0, 5, 5)",
          "(0, 5, 6)",
          "(0, 5, 7)",
          "(0, 5, 8)",
          "(0, 5, 9)",
          "(0, 5, 10)",
          "(0, 5, 11)"
         ],
         "line": {
          "color": [
           0,
           1,
           2,
           3,
           4,
           5,
           6,
           7,
           8,
           9,
           10,
           11,
           12,
           13,
           14,
           15,
           16,
           17,
           18,
           19,
           20,
           21,
           22,
           23,
           24,
           25,
           26,
           27,
           28,
           29,
           30,
           31,
           32,
           33,
           34,
           35,
           36,
           37,
           38,
           39,
           40,
           41,
           42,
           43,
           44,
           45,
           46,
           47,
           48,
           49,
           50,
           51,
           52,
           53,
           54,
           55,
           56,
           57,
           58,
           59,
           60,
           61,
           62,
           63,
           64,
           65,
           66,
           67,
           68,
           69,
           70,
           71,
           72,
           73,
           74,
           75,
           76,
           77,
           78,
           79,
           80,
           81,
           82,
           83,
           84,
           85,
           86,
           87,
           88,
           89,
           90,
           91,
           92,
           93,
           94,
           95,
           96,
           97,
           98,
           99,
           100,
           101,
           102,
           103,
           104,
           105,
           106,
           107,
           108,
           109,
           110,
           111,
           112,
           113,
           114,
           115,
           116,
           117,
           118,
           119,
           120,
           121,
           122,
           123,
           124,
           125,
           126,
           127,
           128,
           129,
           130,
           131,
           132,
           133,
           134,
           135,
           136,
           137,
           138,
           139,
           140,
           141,
           142,
           143,
           144,
           145,
           146,
           147,
           148,
           149,
           150,
           151,
           152,
           153,
           154,
           155,
           156,
           157,
           158,
           159,
           160,
           161,
           162,
           163,
           164,
           165,
           166,
           167,
           168,
           169,
           170,
           171,
           172,
           173,
           174,
           175,
           176
          ]
         },
         "mode": "lines",
         "type": "scatter3d",
         "x": [
          0,
          0,
          0,
          0,
          0,
          0,
          0,
          0,
          1,
          1,
          1,
          0,
          0,
          1,
          1,
          0,
          0,
          0,
          0,
          1,
          2,
          2,
          2,
          2,
          2,
          2,
          2,
          1,
          1,
          1,
          1,
          1,
          1,
          1,
          2,
          2,
          2,
          2,
          2,
          2,
          3,
          3,
          3,
          3,
          3,
          3,
          3,
          4,
          4,
          4,
          4,
          3,
          3,
          2,
          2,
          2,
          3,
          3,
          3,
          3,
          3,
          3,
          3,
          4,
          4,
          4,
          4,
          4,
          3,
          3,
          2,
          1,
          0,
          1,
          1,
          2,
          2,
          2,
          3,
          3,
          4,
          4,
          4,
          5,
          5,
          6,
          7,
          7,
          8,
          8,
          8,
          7,
          7,
          6,
          5,
          5,
          5,
          5,
          6,
          7,
          7,
          7,
          6,
          6,
          5,
          5,
          5,
          6,
          6,
          6,
          7,
          7,
          8,
          8,
          8,
          8,
          8,
          8,
          8,
          8,
          8,
          7,
          7,
          7,
          7,
          6,
          5,
          6,
          6,
          7,
          7,
          7,
          7,
          7,
          7,
          7,
          8,
          8,
          8,
          8,
          8,
          8,
          8,
          8,
          8,
          8,
          8,
          8,
          8,
          8,
          8,
          7,
          6,
          5,
          6,
          6,
          6,
          6,
          5,
          5,
          4,
          4,
          4,
          5,
          5,
          5,
          6,
          7,
          7,
          7,
          7,
          7,
          7,
          8,
          8,
          8,
          8
         ],
         "y": [
          1,
          1,
          2,
          2,
          3,
          3,
          4,
          4,
          4,
          5,
          5,
          5,
          6,
          6,
          7,
          7,
          7,
          7,
          7,
          7,
          7,
          6,
          6,
          5,
          4,
          3,
          3,
          3,
          3,
          2,
          2,
          1,
          1,
          0,
          0,
          0,
          1,
          1,
          2,
          2,
          2,
          1,
          1,
          0,
          1,
          2,
          3,
          3,
          2,
          2,
          2,
          2,
          2,
          2,
          3,
          4,
          4,
          4,
          5,
          6,
          7,
          7,
          7,
          7,
          7,
          7,
          8,
          8,
          8,
          8,
          8,
          8,
          8,
          8,
          8,
          8,
          8,
          7,
          7,
          6,
          6,
          5,
          4,
          4,
          3,
          3,
          3,
          4,
          4,
          5,
          6,
          6,
          6,
          6,
          6,
          6,
          7,
          7,
          7,
          7,
          7,
          7,
          7,
          6,
          6,
          5,
          4,
          4,
          4,
          5,
          5,
          5,
          5,
          5,
          5,
          5,
          6,
          7,
          7,
          7,
          8,
          8,
          8,
          8,
          8,
          8,
          8,
          8,
          8,
          8,
          8,
          8,
          8,
          8,
          8,
          7,
          7,
          7,
          7,
          7,
          7,
          7,
          7,
          6,
          6,
          5,
          5,
          4,
          4,
          3,
          2,
          2,
          2,
          2,
          2,
          2,
          1,
          0,
          0,
          0,
          0,
          1,
          1,
          1,
          1,
          1,
          1,
          1,
          0,
          0,
          0,
          0,
          0,
          0,
          1,
          1,
          1
         ],
         "z": [
          35,
          34,
          34,
          33,
          33,
          32,
          32,
          31,
          31,
          31,
          30,
          30,
          30,
          30,
          30,
          30,
          29,
          30,
          31,
          31,
          31,
          31,
          32,
          32,
          32,
          32,
          33,
          33,
          34,
          34,
          35,
          35,
          36,
          36,
          36,
          35,
          35,
          34,
          34,
          33,
          33,
          33,
          34,
          34,
          34,
          34,
          34,
          34,
          34,
          33,
          32,
          32,
          33,
          33,
          33,
          33,
          33,
          32,
          32,
          32,
          32,
          31,
          32,
          32,
          33,
          34,
          34,
          35,
          35,
          36,
          36,
          36,
          36,
          36,
          37,
          37,
          38,
          38,
          38,
          38,
          38,
          38,
          38,
          38,
          38,
          38,
          38,
          38,
          38,
          38,
          38,
          38,
          39,
          39,
          39,
          38,
          38,
          39,
          39,
          39,
          40,
          41,
          41,
          41,
          41,
          41,
          41,
          41,
          42,
          42,
          42,
          41,
          41,
          40,
          39,
          38,
          38,
          38,
          37,
          36,
          36,
          36,
          35,
          34,
          33,
          33,
          33,
          33,
          32,
          32,
          31,
          32,
          33,
          34,
          35,
          35,
          35,
          34,
          33,
          32,
          31,
          30,
          29,
          29,
          30,
          30,
          31,
          31,
          32,
          32,
          32,
          32,
          32,
          32,
          32,
          31,
          31,
          31,
          31,
          32,
          32,
          32,
          31,
          31,
          30,
          31,
          31,
          31,
          31,
          32,
          33,
          34,
          35,
          35,
          35,
          34,
          34
         ]
        }
       ],
       "layout": {
        "template": {
         "data": {
          "bar": [
           {
            "error_x": {
             "color": "#2a3f5f"
            },
            "error_y": {
             "color": "#2a3f5f"
            },
            "marker": {
             "line": {
              "color": "#E5ECF6",
              "width": 0.5
             },
             "pattern": {
              "fillmode": "overlay",
              "size": 10,
              "solidity": 0.2
             }
            },
            "type": "bar"
           }
          ],
          "barpolar": [
           {
            "marker": {
             "line": {
              "color": "#E5ECF6",
              "width": 0.5
             },
             "pattern": {
              "fillmode": "overlay",
              "size": 10,
              "solidity": 0.2
             }
            },
            "type": "barpolar"
           }
          ],
          "carpet": [
           {
            "aaxis": {
             "endlinecolor": "#2a3f5f",
             "gridcolor": "white",
             "linecolor": "white",
             "minorgridcolor": "white",
             "startlinecolor": "#2a3f5f"
            },
            "baxis": {
             "endlinecolor": "#2a3f5f",
             "gridcolor": "white",
             "linecolor": "white",
             "minorgridcolor": "white",
             "startlinecolor": "#2a3f5f"
            },
            "type": "carpet"
           }
          ],
          "choropleth": [
           {
            "colorbar": {
             "outlinewidth": 0,
             "ticks": ""
            },
            "type": "choropleth"
           }
          ],
          "contour": [
           {
            "colorbar": {
             "outlinewidth": 0,
             "ticks": ""
            },
            "colorscale": [
             [
              0,
              "#0d0887"
             ],
             [
              0.1111111111111111,
              "#46039f"
             ],
             [
              0.2222222222222222,
              "#7201a8"
             ],
             [
              0.3333333333333333,
              "#9c179e"
             ],
             [
              0.4444444444444444,
              "#bd3786"
             ],
             [
              0.5555555555555556,
              "#d8576b"
             ],
             [
              0.6666666666666666,
              "#ed7953"
             ],
             [
              0.7777777777777778,
              "#fb9f3a"
             ],
             [
              0.8888888888888888,
              "#fdca26"
             ],
             [
              1,
              "#f0f921"
             ]
            ],
            "type": "contour"
           }
          ],
          "contourcarpet": [
           {
            "colorbar": {
             "outlinewidth": 0,
             "ticks": ""
            },
            "type": "contourcarpet"
           }
          ],
          "heatmap": [
           {
            "colorbar": {
             "outlinewidth": 0,
             "ticks": ""
            },
            "colorscale": [
             [
              0,
              "#0d0887"
             ],
             [
              0.1111111111111111,
              "#46039f"
             ],
             [
              0.2222222222222222,
              "#7201a8"
             ],
             [
              0.3333333333333333,
              "#9c179e"
             ],
             [
              0.4444444444444444,
              "#bd3786"
             ],
             [
              0.5555555555555556,
              "#d8576b"
             ],
             [
              0.6666666666666666,
              "#ed7953"
             ],
             [
              0.7777777777777778,
              "#fb9f3a"
             ],
             [
              0.8888888888888888,
              "#fdca26"
             ],
             [
              1,
              "#f0f921"
             ]
            ],
            "type": "heatmap"
           }
          ],
          "heatmapgl": [
           {
            "colorbar": {
             "outlinewidth": 0,
             "ticks": ""
            },
            "colorscale": [
             [
              0,
              "#0d0887"
             ],
             [
              0.1111111111111111,
              "#46039f"
             ],
             [
              0.2222222222222222,
              "#7201a8"
             ],
             [
              0.3333333333333333,
              "#9c179e"
             ],
             [
              0.4444444444444444,
              "#bd3786"
             ],
             [
              0.5555555555555556,
              "#d8576b"
             ],
             [
              0.6666666666666666,
              "#ed7953"
             ],
             [
              0.7777777777777778,
              "#fb9f3a"
             ],
             [
              0.8888888888888888,
              "#fdca26"
             ],
             [
              1,
              "#f0f921"
             ]
            ],
            "type": "heatmapgl"
           }
          ],
          "histogram": [
           {
            "marker": {
             "pattern": {
              "fillmode": "overlay",
              "size": 10,
              "solidity": 0.2
             }
            },
            "type": "histogram"
           }
          ],
          "histogram2d": [
           {
            "colorbar": {
             "outlinewidth": 0,
             "ticks": ""
            },
            "colorscale": [
             [
              0,
              "#0d0887"
             ],
             [
              0.1111111111111111,
              "#46039f"
             ],
             [
              0.2222222222222222,
              "#7201a8"
             ],
             [
              0.3333333333333333,
              "#9c179e"
             ],
             [
              0.4444444444444444,
              "#bd3786"
             ],
             [
              0.5555555555555556,
              "#d8576b"
             ],
             [
              0.6666666666666666,
              "#ed7953"
             ],
             [
              0.7777777777777778,
              "#fb9f3a"
             ],
             [
              0.8888888888888888,
              "#fdca26"
             ],
             [
              1,
              "#f0f921"
             ]
            ],
            "type": "histogram2d"
           }
          ],
          "histogram2dcontour": [
           {
            "colorbar": {
             "outlinewidth": 0,
             "ticks": ""
            },
            "colorscale": [
             [
              0,
              "#0d0887"
             ],
             [
              0.1111111111111111,
              "#46039f"
             ],
             [
              0.2222222222222222,
              "#7201a8"
             ],
             [
              0.3333333333333333,
              "#9c179e"
             ],
             [
              0.4444444444444444,
              "#bd3786"
             ],
             [
              0.5555555555555556,
              "#d8576b"
             ],
             [
              0.6666666666666666,
              "#ed7953"
             ],
             [
              0.7777777777777778,
              "#fb9f3a"
             ],
             [
              0.8888888888888888,
              "#fdca26"
             ],
             [
              1,
              "#f0f921"
             ]
            ],
            "type": "histogram2dcontour"
           }
          ],
          "mesh3d": [
           {
            "colorbar": {
             "outlinewidth": 0,
             "ticks": ""
            },
            "type": "mesh3d"
           }
          ],
          "parcoords": [
           {
            "line": {
             "colorbar": {
              "outlinewidth": 0,
              "ticks": ""
             }
            },
            "type": "parcoords"
           }
          ],
          "pie": [
           {
            "automargin": true,
            "type": "pie"
           }
          ],
          "scatter": [
           {
            "marker": {
             "colorbar": {
              "outlinewidth": 0,
              "ticks": ""
             }
            },
            "type": "scatter"
           }
          ],
          "scatter3d": [
           {
            "line": {
             "colorbar": {
              "outlinewidth": 0,
              "ticks": ""
             }
            },
            "marker": {
             "colorbar": {
              "outlinewidth": 0,
              "ticks": ""
             }
            },
            "type": "scatter3d"
           }
          ],
          "scattercarpet": [
           {
            "marker": {
             "colorbar": {
              "outlinewidth": 0,
              "ticks": ""
             }
            },
            "type": "scattercarpet"
           }
          ],
          "scattergeo": [
           {
            "marker": {
             "colorbar": {
              "outlinewidth": 0,
              "ticks": ""
             }
            },
            "type": "scattergeo"
           }
          ],
          "scattergl": [
           {
            "marker": {
             "colorbar": {
              "outlinewidth": 0,
              "ticks": ""
             }
            },
            "type": "scattergl"
           }
          ],
          "scattermapbox": [
           {
            "marker": {
             "colorbar": {
              "outlinewidth": 0,
              "ticks": ""
             }
            },
            "type": "scattermapbox"
           }
          ],
          "scatterpolar": [
           {
            "marker": {
             "colorbar": {
              "outlinewidth": 0,
              "ticks": ""
             }
            },
            "type": "scatterpolar"
           }
          ],
          "scatterpolargl": [
           {
            "marker": {
             "colorbar": {
              "outlinewidth": 0,
              "ticks": ""
             }
            },
            "type": "scatterpolargl"
           }
          ],
          "scatterternary": [
           {
            "marker": {
             "colorbar": {
              "outlinewidth": 0,
              "ticks": ""
             }
            },
            "type": "scatterternary"
           }
          ],
          "surface": [
           {
            "colorbar": {
             "outlinewidth": 0,
             "ticks": ""
            },
            "colorscale": [
             [
              0,
              "#0d0887"
             ],
             [
              0.1111111111111111,
              "#46039f"
             ],
             [
              0.2222222222222222,
              "#7201a8"
             ],
             [
              0.3333333333333333,
              "#9c179e"
             ],
             [
              0.4444444444444444,
              "#bd3786"
             ],
             [
              0.5555555555555556,
              "#d8576b"
             ],
             [
              0.6666666666666666,
              "#ed7953"
             ],
             [
              0.7777777777777778,
              "#fb9f3a"
             ],
             [
              0.8888888888888888,
              "#fdca26"
             ],
             [
              1,
              "#f0f921"
             ]
            ],
            "type": "surface"
           }
          ],
          "table": [
           {
            "cells": {
             "fill": {
              "color": "#EBF0F8"
             },
             "line": {
              "color": "white"
             }
            },
            "header": {
             "fill": {
              "color": "#C8D4E3"
             },
             "line": {
              "color": "white"
             }
            },
            "type": "table"
           }
          ]
         },
         "layout": {
          "annotationdefaults": {
           "arrowcolor": "#2a3f5f",
           "arrowhead": 0,
           "arrowwidth": 1
          },
          "autotypenumbers": "strict",
          "coloraxis": {
           "colorbar": {
            "outlinewidth": 0,
            "ticks": ""
           }
          },
          "colorscale": {
           "diverging": [
            [
             0,
             "#8e0152"
            ],
            [
             0.1,
             "#c51b7d"
            ],
            [
             0.2,
             "#de77ae"
            ],
            [
             0.3,
             "#f1b6da"
            ],
            [
             0.4,
             "#fde0ef"
            ],
            [
             0.5,
             "#f7f7f7"
            ],
            [
             0.6,
             "#e6f5d0"
            ],
            [
             0.7,
             "#b8e186"
            ],
            [
             0.8,
             "#7fbc41"
            ],
            [
             0.9,
             "#4d9221"
            ],
            [
             1,
             "#276419"
            ]
           ],
           "sequential": [
            [
             0,
             "#0d0887"
            ],
            [
             0.1111111111111111,
             "#46039f"
            ],
            [
             0.2222222222222222,
             "#7201a8"
            ],
            [
             0.3333333333333333,
             "#9c179e"
            ],
            [
             0.4444444444444444,
             "#bd3786"
            ],
            [
             0.5555555555555556,
             "#d8576b"
            ],
            [
             0.6666666666666666,
             "#ed7953"
            ],
            [
             0.7777777777777778,
             "#fb9f3a"
            ],
            [
             0.8888888888888888,
             "#fdca26"
            ],
            [
             1,
             "#f0f921"
            ]
           ],
           "sequentialminus": [
            [
             0,
             "#0d0887"
            ],
            [
             0.1111111111111111,
             "#46039f"
            ],
            [
             0.2222222222222222,
             "#7201a8"
            ],
            [
             0.3333333333333333,
             "#9c179e"
            ],
            [
             0.4444444444444444,
             "#bd3786"
            ],
            [
             0.5555555555555556,
             "#d8576b"
            ],
            [
             0.6666666666666666,
             "#ed7953"
            ],
            [
             0.7777777777777778,
             "#fb9f3a"
            ],
            [
             0.8888888888888888,
             "#fdca26"
            ],
            [
             1,
             "#f0f921"
            ]
           ]
          },
          "colorway": [
           "#636efa",
           "#EF553B",
           "#00cc96",
           "#ab63fa",
           "#FFA15A",
           "#19d3f3",
           "#FF6692",
           "#B6E880",
           "#FF97FF",
           "#FECB52"
          ],
          "font": {
           "color": "#2a3f5f"
          },
          "geo": {
           "bgcolor": "white",
           "lakecolor": "white",
           "landcolor": "#E5ECF6",
           "showlakes": true,
           "showland": true,
           "subunitcolor": "white"
          },
          "hoverlabel": {
           "align": "left"
          },
          "hovermode": "closest",
          "mapbox": {
           "style": "light"
          },
          "paper_bgcolor": "white",
          "plot_bgcolor": "#E5ECF6",
          "polar": {
           "angularaxis": {
            "gridcolor": "white",
            "linecolor": "white",
            "ticks": ""
           },
           "bgcolor": "#E5ECF6",
           "radialaxis": {
            "gridcolor": "white",
            "linecolor": "white",
            "ticks": ""
           }
          },
          "scene": {
           "xaxis": {
            "backgroundcolor": "#E5ECF6",
            "gridcolor": "white",
            "gridwidth": 2,
            "linecolor": "white",
            "showbackground": true,
            "ticks": "",
            "zerolinecolor": "white"
           },
           "yaxis": {
            "backgroundcolor": "#E5ECF6",
            "gridcolor": "white",
            "gridwidth": 2,
            "linecolor": "white",
            "showbackground": true,
            "ticks": "",
            "zerolinecolor": "white"
           },
           "zaxis": {
            "backgroundcolor": "#E5ECF6",
            "gridcolor": "white",
            "gridwidth": 2,
            "linecolor": "white",
            "showbackground": true,
            "ticks": "",
            "zerolinecolor": "white"
           }
          },
          "shapedefaults": {
           "line": {
            "color": "#2a3f5f"
           }
          },
          "ternary": {
           "aaxis": {
            "gridcolor": "white",
            "linecolor": "white",
            "ticks": ""
           },
           "baxis": {
            "gridcolor": "white",
            "linecolor": "white",
            "ticks": ""
           },
           "bgcolor": "#E5ECF6",
           "caxis": {
            "gridcolor": "white",
            "linecolor": "white",
            "ticks": ""
           }
          },
          "title": {
           "x": 0.05
          },
          "xaxis": {
           "automargin": true,
           "gridcolor": "white",
           "linecolor": "white",
           "ticks": "",
           "title": {
            "standoff": 15
           },
           "zerolinecolor": "white",
           "zerolinewidth": 2
          },
          "yaxis": {
           "automargin": true,
           "gridcolor": "white",
           "linecolor": "white",
           "ticks": "",
           "title": {
            "standoff": 15
           },
           "zerolinecolor": "white",
           "zerolinewidth": 2
          }
         }
        }
       }
      }
     },
     "metadata": {},
     "output_type": "display_data"
    }
   ],
   "source": [
    "px = []\n",
    "py = []\n",
    "pz = []\n",
    "for point in path:\n",
    "  px.append(point[0])\n",
    "  py.append(point[1])\n",
    "  pz.append(point[2])\n",
    "# color by index so we can see the order\n",
    "colors = []\n",
    "for i in range(len(path)):\n",
    "  colors.append(i)\n",
    "fig = go.Figure(data=[\n",
    "      go.Scatter3d(x=px, y=py, z=pz,\n",
    "                    mode='lines', \n",
    "                    line=dict(color=colors),\n",
    "                    hoverinfo='text',\n",
    "                    hovertext=['(%d, %d, %d)' % (x[i], y[i], z[i]) for i in range(len(path))]\n",
    "                    ),\n",
    "\n",
    "    #  go.Scatter3d(x=x, y=y, z=z,\n",
    "    #               mode='markers',\n",
    "    #               marker=dict(size=2)\n",
    "    #              ),\n",
    "    ])\n",
    "# fig.update_scenes(camera_projection_type='orthographic')\n",
    "fig.show()"
   ]
  },
  {
   "cell_type": "code",
   "execution_count": 138,
   "id": "05582620",
   "metadata": {},
   "outputs": [
    {
     "data": {
      "text/plain": [
       "[(0, 1, 35),\n",
       " (0, 1, 34),\n",
       " (0, 2, 34),\n",
       " (0, 2, 33),\n",
       " (0, 3, 33),\n",
       " (0, 3, 32),\n",
       " (0, 4, 32),\n",
       " (0, 4, 31),\n",
       " (1, 4, 31),\n",
       " (1, 5, 31),\n",
       " (1, 5, 30),\n",
       " (0, 5, 30),\n",
       " (0, 6, 30),\n",
       " (1, 6, 30),\n",
       " (1, 7, 30),\n",
       " (0, 7, 30),\n",
       " (0, 7, 29),\n",
       " (0, 7, 30),\n",
       " (0, 7, 31),\n",
       " (1, 7, 31),\n",
       " (2, 7, 31),\n",
       " (2, 6, 31),\n",
       " (2, 6, 32),\n",
       " (2, 5, 32),\n",
       " (2, 4, 32),\n",
       " (2, 3, 32),\n",
       " (2, 3, 33),\n",
       " (1, 3, 33),\n",
       " (1, 3, 34),\n",
       " (1, 2, 34),\n",
       " (1, 2, 35),\n",
       " (1, 1, 35),\n",
       " (1, 1, 36),\n",
       " (1, 0, 36),\n",
       " (2, 0, 36),\n",
       " (2, 0, 35),\n",
       " (2, 1, 35),\n",
       " (2, 1, 34),\n",
       " (2, 2, 34),\n",
       " (2, 2, 33),\n",
       " (3, 2, 33),\n",
       " (3, 1, 33),\n",
       " (3, 1, 34),\n",
       " (3, 0, 34),\n",
       " (3, 1, 34),\n",
       " (3, 2, 34),\n",
       " (3, 3, 34),\n",
       " (4, 3, 34),\n",
       " (4, 2, 34),\n",
       " (4, 2, 33),\n",
       " (4, 2, 32),\n",
       " (3, 2, 32),\n",
       " (3, 2, 33),\n",
       " (2, 2, 33),\n",
       " (2, 3, 33),\n",
       " (2, 4, 33),\n",
       " (3, 4, 33),\n",
       " (3, 4, 32),\n",
       " (3, 5, 32),\n",
       " (3, 6, 32),\n",
       " (3, 7, 32),\n",
       " (3, 7, 31),\n",
       " (3, 7, 32),\n",
       " (4, 7, 32),\n",
       " (4, 7, 33),\n",
       " (4, 7, 34),\n",
       " (4, 8, 34),\n",
       " (4, 8, 35),\n",
       " (3, 8, 35),\n",
       " (3, 8, 36),\n",
       " (2, 8, 36),\n",
       " (1, 8, 36),\n",
       " (0, 8, 36),\n",
       " (1, 8, 36),\n",
       " (1, 8, 37),\n",
       " (2, 8, 37),\n",
       " (2, 8, 38),\n",
       " (2, 7, 38),\n",
       " (3, 7, 38),\n",
       " (3, 6, 38),\n",
       " (4, 6, 38),\n",
       " (4, 5, 38),\n",
       " (4, 4, 38),\n",
       " (5, 4, 38),\n",
       " (5, 3, 38),\n",
       " (6, 3, 38),\n",
       " (7, 3, 38),\n",
       " (7, 4, 38),\n",
       " (8, 4, 38),\n",
       " (8, 5, 38),\n",
       " (8, 6, 38),\n",
       " (7, 6, 38),\n",
       " (7, 6, 39),\n",
       " (6, 6, 39),\n",
       " (5, 6, 39),\n",
       " (5, 6, 38),\n",
       " (5, 7, 38),\n",
       " (5, 7, 39),\n",
       " (6, 7, 39),\n",
       " (7, 7, 39),\n",
       " (7, 7, 40),\n",
       " (7, 7, 41),\n",
       " (6, 7, 41),\n",
       " (6, 6, 41),\n",
       " (5, 6, 41),\n",
       " (5, 5, 41),\n",
       " (5, 4, 41),\n",
       " (6, 4, 41),\n",
       " (6, 4, 42),\n",
       " (6, 5, 42),\n",
       " (7, 5, 42),\n",
       " (7, 5, 41),\n",
       " (8, 5, 41),\n",
       " (8, 5, 40),\n",
       " (8, 5, 39),\n",
       " (8, 5, 38),\n",
       " (8, 6, 38),\n",
       " (8, 7, 38),\n",
       " (8, 7, 37),\n",
       " (8, 7, 36),\n",
       " (8, 8, 36),\n",
       " (7, 8, 36),\n",
       " (7, 8, 35),\n",
       " (7, 8, 34),\n",
       " (7, 8, 33),\n",
       " (6, 8, 33),\n",
       " (5, 8, 33),\n",
       " (6, 8, 33),\n",
       " (6, 8, 32),\n",
       " (7, 8, 32),\n",
       " (7, 8, 31),\n",
       " (7, 8, 32),\n",
       " (7, 8, 33),\n",
       " (7, 8, 34),\n",
       " (7, 8, 35),\n",
       " (7, 7, 35),\n",
       " (8, 7, 35),\n",
       " (8, 7, 34),\n",
       " (8, 7, 33),\n",
       " (8, 7, 32),\n",
       " (8, 7, 31),\n",
       " (8, 7, 30),\n",
       " (8, 7, 29),\n",
       " (8, 6, 29),\n",
       " (8, 6, 30),\n",
       " (8, 5, 30),\n",
       " (8, 5, 31),\n",
       " (8, 4, 31),\n",
       " (8, 4, 32),\n",
       " (8, 3, 32),\n",
       " (8, 2, 32),\n",
       " (7, 2, 32),\n",
       " (6, 2, 32),\n",
       " (5, 2, 32),\n",
       " (6, 2, 32),\n",
       " (6, 2, 31),\n",
       " (6, 1, 31),\n",
       " (6, 0, 31),\n",
       " (5, 0, 31),\n",
       " (5, 0, 32),\n",
       " (4, 0, 32),\n",
       " (4, 1, 32),\n",
       " (4, 1, 31),\n",
       " (5, 1, 31),\n",
       " (5, 1, 30),\n",
       " (5, 1, 31),\n",
       " (6, 1, 31),\n",
       " (7, 1, 31),\n",
       " (7, 0, 31),\n",
       " (7, 0, 32),\n",
       " (7, 0, 33),\n",
       " (7, 0, 34),\n",
       " (7, 0, 35),\n",
       " (8, 0, 35),\n",
       " (8, 1, 35),\n",
       " (8, 1, 34),\n",
       " (8, 1, 34)]"
      ]
     },
     "execution_count": 138,
     "metadata": {},
     "output_type": "execute_result"
    }
   ],
   "source": [
    "path"
   ]
  },
  {
   "cell_type": "code",
   "execution_count": null,
   "id": "285e549c",
   "metadata": {},
   "outputs": [],
   "source": []
  }
 ],
 "metadata": {
  "kernelspec": {
   "display_name": "Python 3",
   "language": "python",
   "name": "python3"
  },
  "language_info": {
   "codemirror_mode": {
    "name": "ipython",
    "version": 3
   },
   "file_extension": ".py",
   "mimetype": "text/x-python",
   "name": "python",
   "nbconvert_exporter": "python",
   "pygments_lexer": "ipython3",
   "version": "3.9.1"
  }
 },
 "nbformat": 4,
 "nbformat_minor": 5
}
